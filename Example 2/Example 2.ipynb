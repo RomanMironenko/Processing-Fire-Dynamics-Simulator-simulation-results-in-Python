{
 "cells": [
  {
   "cell_type": "code",
   "execution_count": 2,
   "id": "985b8ca7",
   "metadata": {},
   "outputs": [
    {
     "data": {
      "text/html": [
       "<div>\n",
       "<style scoped>\n",
       "    .dataframe tbody tr th:only-of-type {\n",
       "        vertical-align: middle;\n",
       "    }\n",
       "\n",
       "    .dataframe tbody tr th {\n",
       "        vertical-align: top;\n",
       "    }\n",
       "\n",
       "    .dataframe thead th {\n",
       "        text-align: right;\n",
       "    }\n",
       "</style>\n",
       "<table border=\"1\" class=\"dataframe\">\n",
       "  <thead>\n",
       "    <tr style=\"text-align: right;\">\n",
       "      <th></th>\n",
       "      <th>Time</th>\n",
       "      <th>HRR</th>\n",
       "      <th>Q_RADI</th>\n",
       "      <th>Q_CONV</th>\n",
       "      <th>Q_COND</th>\n",
       "      <th>Q_DIFF</th>\n",
       "      <th>Q_PRES</th>\n",
       "      <th>Q_PART</th>\n",
       "      <th>Q_ENTH</th>\n",
       "      <th>Q_TOTAL</th>\n",
       "      <th>MLR_AIR</th>\n",
       "      <th>MLR_PROPANE</th>\n",
       "      <th>MLR_PRODUCTS</th>\n",
       "    </tr>\n",
       "  </thead>\n",
       "  <tbody>\n",
       "    <tr>\n",
       "      <th>0</th>\n",
       "      <td>0.000000</td>\n",
       "      <td>0.000000</td>\n",
       "      <td>-6.802389e-08</td>\n",
       "      <td>4.440892e-19</td>\n",
       "      <td>0.000000</td>\n",
       "      <td>0.000000</td>\n",
       "      <td>0.0</td>\n",
       "      <td>0.0</td>\n",
       "      <td>0.000000</td>\n",
       "      <td>-6.802389e-08</td>\n",
       "      <td>0.0</td>\n",
       "      <td>0.000000</td>\n",
       "      <td>0.0</td>\n",
       "    </tr>\n",
       "    <tr>\n",
       "      <th>1</th>\n",
       "      <td>1.033925</td>\n",
       "      <td>83.281562</td>\n",
       "      <td>-1.648879e+01</td>\n",
       "      <td>1.097219e+00</td>\n",
       "      <td>-0.134247</td>\n",
       "      <td>-0.001532</td>\n",
       "      <td>0.0</td>\n",
       "      <td>0.0</td>\n",
       "      <td>22.367290</td>\n",
       "      <td>6.775421e+01</td>\n",
       "      <td>0.0</td>\n",
       "      <td>0.000720</td>\n",
       "      <td>0.0</td>\n",
       "    </tr>\n",
       "    <tr>\n",
       "      <th>2</th>\n",
       "      <td>2.013308</td>\n",
       "      <td>78.585038</td>\n",
       "      <td>-2.733659e+01</td>\n",
       "      <td>-6.555959e+00</td>\n",
       "      <td>-0.344925</td>\n",
       "      <td>-0.003698</td>\n",
       "      <td>0.0</td>\n",
       "      <td>0.0</td>\n",
       "      <td>52.008916</td>\n",
       "      <td>4.434387e+01</td>\n",
       "      <td>0.0</td>\n",
       "      <td>0.001246</td>\n",
       "      <td>0.0</td>\n",
       "    </tr>\n",
       "    <tr>\n",
       "      <th>3</th>\n",
       "      <td>3.006514</td>\n",
       "      <td>60.888075</td>\n",
       "      <td>-1.466148e+01</td>\n",
       "      <td>-6.623389e+01</td>\n",
       "      <td>-0.335589</td>\n",
       "      <td>-0.004035</td>\n",
       "      <td>0.0</td>\n",
       "      <td>0.0</td>\n",
       "      <td>-21.164841</td>\n",
       "      <td>-2.034691e+01</td>\n",
       "      <td>0.0</td>\n",
       "      <td>0.001361</td>\n",
       "      <td>0.0</td>\n",
       "    </tr>\n",
       "    <tr>\n",
       "      <th>4</th>\n",
       "      <td>4.011369</td>\n",
       "      <td>62.306540</td>\n",
       "      <td>-1.485718e+01</td>\n",
       "      <td>-4.732209e+01</td>\n",
       "      <td>-0.362806</td>\n",
       "      <td>-0.004093</td>\n",
       "      <td>0.0</td>\n",
       "      <td>0.0</td>\n",
       "      <td>-0.429241</td>\n",
       "      <td>-2.396315e-01</td>\n",
       "      <td>0.0</td>\n",
       "      <td>0.001379</td>\n",
       "      <td>0.0</td>\n",
       "    </tr>\n",
       "  </tbody>\n",
       "</table>\n",
       "</div>"
      ],
      "text/plain": [
       "       Time        HRR        Q_RADI        Q_CONV    Q_COND    Q_DIFF  \\\n",
       "0  0.000000   0.000000 -6.802389e-08  4.440892e-19  0.000000  0.000000   \n",
       "1  1.033925  83.281562 -1.648879e+01  1.097219e+00 -0.134247 -0.001532   \n",
       "2  2.013308  78.585038 -2.733659e+01 -6.555959e+00 -0.344925 -0.003698   \n",
       "3  3.006514  60.888075 -1.466148e+01 -6.623389e+01 -0.335589 -0.004035   \n",
       "4  4.011369  62.306540 -1.485718e+01 -4.732209e+01 -0.362806 -0.004093   \n",
       "\n",
       "   Q_PRES  Q_PART     Q_ENTH       Q_TOTAL  MLR_AIR  MLR_PROPANE  MLR_PRODUCTS  \n",
       "0     0.0     0.0   0.000000 -6.802389e-08      0.0     0.000000           0.0  \n",
       "1     0.0     0.0  22.367290  6.775421e+01      0.0     0.000720           0.0  \n",
       "2     0.0     0.0  52.008916  4.434387e+01      0.0     0.001246           0.0  \n",
       "3     0.0     0.0 -21.164841 -2.034691e+01      0.0     0.001361           0.0  \n",
       "4     0.0     0.0  -0.429241 -2.396315e-01      0.0     0.001379           0.0  "
      ]
     },
     "execution_count": 2,
     "metadata": {},
     "output_type": "execute_result"
    }
   ],
   "source": [
    "# необходимые библиотеки \n",
    "import os\n",
    "import matplotlib\n",
    "import matplotlib.pyplot as plt\n",
    "import numpy as np\n",
    "import pandas as pd\n",
    "\n",
    "# Указать путь к файлу\n",
    "hrr_path = os.path.join(\"Example 2_hrr.csv\")\n",
    "\n",
    "# Прочитать CSV-файл как Pandas DataFrame.\n",
    "hrr_df = pd.read_csv(hrr_path, header=1)\n",
    "\n",
    "# Показать результат первых 5 строчек\n",
    "hrr_df.head()"
   ]
  },
  {
   "cell_type": "code",
   "execution_count": 3,
   "id": "200faa8b",
   "metadata": {},
   "outputs": [
    {
     "data": {
      "text/plain": [
       "0      0.000000\n",
       "1      1.033925\n",
       "2      2.013308\n",
       "3      3.006514\n",
       "4      4.011369\n",
       "        ...    \n",
       "56    56.013187\n",
       "57    57.004475\n",
       "58    58.002293\n",
       "59    59.014900\n",
       "60    60.000000\n",
       "Name: Time, Length: 61, dtype: float64"
      ]
     },
     "execution_count": 3,
     "metadata": {},
     "output_type": "execute_result"
    }
   ],
   "source": [
    "# Получение доступа к отдельным столбцам\n",
    "hrr_df[\"Time\"]"
   ]
  },
  {
   "cell_type": "code",
   "execution_count": 4,
   "id": "58f5eea4",
   "metadata": {},
   "outputs": [
    {
     "data": {
      "text/plain": [
       "0      0.000000\n",
       "1     83.281562\n",
       "2     78.585038\n",
       "3     60.888075\n",
       "4     62.306540\n",
       "        ...    \n",
       "56    62.766049\n",
       "57    63.131511\n",
       "58    62.580899\n",
       "59    62.552140\n",
       "60    62.640570\n",
       "Name: HRR, Length: 61, dtype: float64"
      ]
     },
     "execution_count": 4,
     "metadata": {},
     "output_type": "execute_result"
    }
   ],
   "source": [
    "# Получение доступа к отдельным столбцам\n",
    "hrr_df.HRR"
   ]
  },
  {
   "cell_type": "code",
   "execution_count": 5,
   "id": "273090ae",
   "metadata": {},
   "outputs": [
    {
     "data": {
      "text/plain": [
       "['Time',\n",
       " 'HRR',\n",
       " 'Q_RADI',\n",
       " 'Q_CONV',\n",
       " 'Q_COND',\n",
       " 'Q_DIFF',\n",
       " 'Q_PRES',\n",
       " 'Q_PART',\n",
       " 'Q_ENTH',\n",
       " 'Q_TOTAL',\n",
       " 'MLR_AIR',\n",
       " 'MLR_PROPANE',\n",
       " 'MLR_PRODUCTS']"
      ]
     },
     "execution_count": 5,
     "metadata": {},
     "output_type": "execute_result"
    }
   ],
   "source": [
    "# Список с заголовками столбцов\n",
    "list(hrr_df)"
   ]
  },
  {
   "cell_type": "code",
   "execution_count": 6,
   "id": "3d85b81b",
   "metadata": {},
   "outputs": [
    {
     "data": {
      "image/png": "[encoded data removed]",
      "text/plain": [
       "<Figure size 432x288 with 1 Axes>"
      ]
     },
     "metadata": {
      "needs_background": "light"
     },
     "output_type": "display_data"
    }
   ],
   "source": [
    "# Пунктирная линия с целевым показателем 63 кВт\n",
    "plt.plot([0, 63],\n",
    "         [63, 63],\n",
    "         color=\"k\", alpha=0.4,\n",
    "         linestyle=\"--\",\n",
    "         label=\"Цель\")\n",
    "\n",
    "# График с результатами моделирования\n",
    "plt.plot(hrr_df[\"Time\"], \n",
    "         hrr_df.HRR,\n",
    "         label=\"Моделирование\")\n",
    "\n",
    "\n",
    "# Метаданные графика\n",
    "plt.xlabel(\"Время, с\")\n",
    "plt.ylabel(\"HRR, кВт\")\n",
    "plt.legend()\n",
    "plt.grid()"
   ]
  },
  {
   "cell_type": "code",
   "execution_count": null,
   "id": "6bece9a0",
   "metadata": {},
   "outputs": [],
   "source": []
  }
 ],
 "metadata": {
  "kernelspec": {
   "display_name": "Python 3 (ipykernel)",
   "language": "python",
   "name": "python3"
  },
  "language_info": {
   "codemirror_mode": {
    "name": "ipython",
    "version": 3
   },
   "file_extension": ".py",
   "mimetype": "text/x-python",
   "name": "python",
   "nbconvert_exporter": "python",
   "pygments_lexer": "ipython3",
   "version": "3.9.7"
  },
  "toc": {
   "base_numbering": 1,
   "nav_menu": {},
   "number_sections": true,
   "sideBar": true,
   "skip_h1_title": false,
   "title_cell": "Table of Contents",
   "title_sidebar": "Contents",
   "toc_cell": false,
   "toc_position": {},
   "toc_section_display": true,
   "toc_window_display": true
  },
  "varInspector": {
   "cols": {
    "lenName": 16,
    "lenType": 16,
    "lenVar": 40
   },
   "kernels_config": {
    "python": {
     "delete_cmd_postfix": "",
     "delete_cmd_prefix": "del ",
     "library": "var_list.py",
     "varRefreshCmd": "print(var_dic_list())"
    },
    "r": {
     "delete_cmd_postfix": ") ",
     "delete_cmd_prefix": "rm(",
     "library": "var_list.r",
     "varRefreshCmd": "cat(var_dic_list()) "
    }
   },
   "types_to_exclude": [
    "module",
    "function",
    "builtin_function_or_method",
    "instance",
    "_Feature"
   ],
   "window_display": false
  }
 },
 "nbformat": 4,
 "nbformat_minor": 5
}
